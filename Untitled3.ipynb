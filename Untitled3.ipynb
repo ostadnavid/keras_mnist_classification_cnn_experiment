{
  "nbformat": 4,
  "nbformat_minor": 0,
  "metadata": {
    "colab": {
      "provenance": [],
      "gpuType": "T4",
      "authorship_tag": "ABX9TyMbrKAlKLPymKfJAfAUCZbO",
      "include_colab_link": true
    },
    "kernelspec": {
      "name": "python3",
      "display_name": "Python 3"
    },
    "language_info": {
      "name": "python"
    },
    "accelerator": "GPU",
    "gpuClass": "standard"
  },
  "cells": [
    {
      "cell_type": "markdown",
      "metadata": {
        "id": "view-in-github",
        "colab_type": "text"
      },
      "source": [
        "<a href=\"https://colab.research.google.com/github/ostadnavid/keras_mnist_classification_cnn_experiment/blob/main/Untitled3.ipynb\" target=\"_parent\"><img src=\"https://colab.research.google.com/assets/colab-badge.svg\" alt=\"Open In Colab\"/></a>"
      ]
    },
    {
      "cell_type": "code",
      "source": [
        "import keras\n",
        "from keras import layers, datasets, optimizers, losses\n",
        "from keras.datasets import mnist\n",
        "import numpy as np\n",
        "import matplotlib.pyplot as plt\n",
        "import tensorflow as tf"
      ],
      "metadata": {
        "id": "FxZK1nyMwNQe"
      },
      "execution_count": 1,
      "outputs": []
    },
    {
      "cell_type": "code",
      "source": [
        "def get_mnist_data():\n",
        "  (X_t, y_t), (X_te, y_te) = mnist.load_data()\n",
        "\n",
        "  X_t = X_t.astype('float32')\n",
        "  X_te = X_te.astype('float32')\n",
        "\n",
        "  y_t = y_t.astype('int32') \n",
        "  y_te = y_te.astype('int32')\n",
        "\n",
        "  return X_t, y_t, X_te, y_te\n",
        "\n",
        "def get_mnist_model():\n",
        "  inputs = layers.Input(shape=(28, 28, 1))\n",
        "  _ = layers.Rescaling(1./255)(inputs)\n",
        "  _ = layers.Conv2D(filters=1, kernel_size=(3, 3), activation='relu')(_)\n",
        "  _ = layers.MaxPool2D(pool_size=2)(_)\n",
        "  _ = layers.Flatten()(_)\n",
        "  _ = layers.Dense(32, activation='relu')(_)\n",
        "  outputs = layers.Dense(10, activation='softmax')(_)\n",
        "\n",
        "  model = keras.Model(inputs, outputs)\n",
        "\n",
        "  model.compile(optimizer=optimizers.Adam(.001),\n",
        "                loss=losses.SparseCategoricalCrossentropy(),\n",
        "                metrics=['accuracy'])\n",
        "  \n",
        "  return model"
      ],
      "metadata": {
        "id": "V4I7ECjVwWJG"
      },
      "execution_count": 2,
      "outputs": []
    },
    {
      "cell_type": "code",
      "source": [
        "model = get_mnist_model()\n",
        "X_train, y_train, X_test, y_test = get_mnist_data()\n",
        "\n",
        "model.summary()"
      ],
      "metadata": {
        "colab": {
          "base_uri": "https://localhost:8080/"
        },
        "id": "UsEymh1nxieg",
        "outputId": "eec374ca-fb95-4451-d417-2c9ddb8423e2"
      },
      "execution_count": 3,
      "outputs": [
        {
          "output_type": "stream",
          "name": "stdout",
          "text": [
            "Downloading data from https://storage.googleapis.com/tensorflow/tf-keras-datasets/mnist.npz\n",
            "11490434/11490434 [==============================] - 2s 0us/step\n",
            "Model: \"model\"\n",
            "_________________________________________________________________\n",
            " Layer (type)                Output Shape              Param #   \n",
            "=================================================================\n",
            " input_1 (InputLayer)        [(None, 28, 28, 1)]       0         \n",
            "                                                                 \n",
            " rescaling (Rescaling)       (None, 28, 28, 1)         0         \n",
            "                                                                 \n",
            " conv2d (Conv2D)             (None, 26, 26, 1)         10        \n",
            "                                                                 \n",
            " max_pooling2d (MaxPooling2D  (None, 13, 13, 1)        0         \n",
            " )                                                               \n",
            "                                                                 \n",
            " flatten (Flatten)           (None, 169)               0         \n",
            "                                                                 \n",
            " dense (Dense)               (None, 32)                5440      \n",
            "                                                                 \n",
            " dense_1 (Dense)             (None, 10)                330       \n",
            "                                                                 \n",
            "=================================================================\n",
            "Total params: 5,780\n",
            "Trainable params: 5,780\n",
            "Non-trainable params: 0\n",
            "_________________________________________________________________\n"
          ]
        }
      ]
    },
    {
      "cell_type": "code",
      "source": [
        "callbacks = [\n",
        "    keras.callbacks.ModelCheckpoint(\n",
        "        'best_model_mnist.keras',\n",
        "        monitor='val_loss'\n",
        "    )\n",
        "]\n",
        "\n",
        "model.fit(X_train, y_train, validation_split=.25, batch_size=32, epochs=50,\n",
        "          callbacks=callbacks, verbose=0)"
      ],
      "metadata": {
        "colab": {
          "base_uri": "https://localhost:8080/"
        },
        "id": "gwzuKImxyRvz",
        "outputId": "0960730c-8b2b-4166-f617-2419c8638bf5"
      },
      "execution_count": 4,
      "outputs": [
        {
          "output_type": "execute_result",
          "data": {
            "text/plain": [
              "<keras.callbacks.History at 0x7f1c616f3fd0>"
            ]
          },
          "metadata": {},
          "execution_count": 4
        }
      ]
    },
    {
      "cell_type": "code",
      "source": [
        "best_model = keras.models.load_model('best_model_mnist.keras')\n",
        "\n",
        "best_model.evaluate(X_test, y_test)"
      ],
      "metadata": {
        "colab": {
          "base_uri": "https://localhost:8080/"
        },
        "id": "QMmI3ZVPyhWr",
        "outputId": "a3bcc523-a9de-4186-a298-382b3a5f2e67"
      },
      "execution_count": 5,
      "outputs": [
        {
          "output_type": "stream",
          "name": "stdout",
          "text": [
            "313/313 [==============================] - 1s 2ms/step - loss: 0.1483 - accuracy: 0.9635\n"
          ]
        },
        {
          "output_type": "execute_result",
          "data": {
            "text/plain": [
              "[0.14827081561088562, 0.9635000228881836]"
            ]
          },
          "metadata": {},
          "execution_count": 5
        }
      ]
    },
    {
      "cell_type": "code",
      "source": [
        "def get_filter_result_model_mnist():\n",
        "\n",
        "  inputs = layers.Input(shape=(28, 28, 1))\n",
        "\n",
        "  _ = layers.Rescaling(1./255)(inputs)\n",
        "\n",
        "  _ = best_model.layers[2](_)\n",
        "\n",
        "  outputs = layers.MaxPool2D(pool_size=2)(_)\n",
        "\n",
        "\n",
        "  return keras.Model(inputs, outputs)"
      ],
      "metadata": {
        "id": "hOcp9tQ_z_3b"
      },
      "execution_count": 6,
      "outputs": []
    },
    {
      "cell_type": "code",
      "source": [
        "model_filter = get_filter_result_model_mnist()\n",
        "\n",
        "model_filter.summary()"
      ],
      "metadata": {
        "colab": {
          "base_uri": "https://localhost:8080/"
        },
        "id": "A8zlOAD60Zbe",
        "outputId": "0c4571f9-0234-48bf-ec75-7ce69a479df8"
      },
      "execution_count": 7,
      "outputs": [
        {
          "output_type": "stream",
          "name": "stdout",
          "text": [
            "Model: \"model_1\"\n",
            "_________________________________________________________________\n",
            " Layer (type)                Output Shape              Param #   \n",
            "=================================================================\n",
            " input_2 (InputLayer)        [(None, 28, 28, 1)]       0         \n",
            "                                                                 \n",
            " rescaling_1 (Rescaling)     (None, 28, 28, 1)         0         \n",
            "                                                                 \n",
            " conv2d (Conv2D)             (None, 26, 26, 1)         10        \n",
            "                                                                 \n",
            " max_pooling2d_1 (MaxPooling  (None, 13, 13, 1)        0         \n",
            " 2D)                                                             \n",
            "                                                                 \n",
            "=================================================================\n",
            "Total params: 10\n",
            "Trainable params: 10\n",
            "Non-trainable params: 0\n",
            "_________________________________________________________________\n"
          ]
        }
      ]
    },
    {
      "cell_type": "code",
      "source": [
        "n = 4\n",
        "rnd_idx = np.random.randint(0, len(X_test), size=[n])\n",
        "for i in range(n):\n",
        "  sample = X_test[rnd_idx[i]]\n",
        "  target = y_test[rnd_idx[i]]\n",
        "\n",
        "  pred = best_model(np.expand_dims(sample, 0)).numpy().argmax(axis=1)\n",
        "\n",
        "  filter_of_model = model_filter(np.expand_dims(sample, 0))\n",
        "\n",
        "  plt.figure(figsize=(12, 6))\n",
        "  plt.subplot(1, 2, 1)\n",
        "  plt.imshow(sample, cmap='gray')\n",
        "  plt.xticks([])\n",
        "  plt.yticks([])\n",
        "  plt.xlabel(f'target : {target} | pred : {pred.item()}')\n",
        "  plt.subplot(1, 2, 2)\n",
        "  plt.imshow(filter_of_model.numpy().squeeze(), cmap='gray')\n",
        "  plt.xticks([])\n",
        "  plt.yticks([])\n",
        "  plt.xlabel(f'Conv2D and MaxPool2D result')\n",
        "  plt.show()"
      ],
      "metadata": {
        "colab": {
          "base_uri": "https://localhost:8080/",
          "height": 1000
        },
        "id": "Vq5MfPSw1lem",
        "outputId": "84f61760-a6b4-4158-c6ea-4a1f384ce839"
      },
      "execution_count": 9,
      "outputs": [
        {
          "output_type": "display_data",
          "data": {
            "text/plain": [
              "<Figure size 1200x600 with 2 Axes>"
            ],
            "image/png": "[encoded data removed]"
          },
          "metadata": {}
        },
        {
          "output_type": "display_data",
          "data": {
            "text/plain": [
              "<Figure size 1200x600 with 2 Axes>"
            ],
            "image/png": "[encoded data removed]"
          },
          "metadata": {}
        },
        {
          "output_type": "display_data",
          "data": {
            "text/plain": [
              "<Figure size 1200x600 with 2 Axes>"
            ],
            "image/png": "[encoded data removed]"
          },
          "metadata": {}
        },
        {
          "output_type": "display_data",
          "data": {
            "text/plain": [
              "<Figure size 1200x600 with 2 Axes>"
            ],
            "image/png": "[encoded data removed]"
          },
          "metadata": {}
        }
      ]
    },
    {
      "cell_type": "code",
      "source": [],
      "metadata": {
        "id": "K_rNRgTG9iRR"
      },
      "execution_count": null,
      "outputs": []
    }
  ]
}